{
 "cells": [
  {
   "cell_type": "code",
   "execution_count": 21,
   "metadata": {},
   "outputs": [],
   "source": [
    "import csv\n",
    "\n",
    "from pythonping import ping \n",
    "sites = [\"vk.com\",\"yandex.com\", \"google.com\", \"pornhub.com\", \"youtube.com\", \"twitch.tv\", \"kaggle.com\", \"github.com\", \"stackoverflow.com\", \"mail.ru\"]\n",
    "with open(\"pings_results.csv\", \"w\", newline=\"\") as csvfile:\n",
    "    writer = csv.writer(csvfile)\n",
    "\n",
    "    writer.writerow(['Domain', 'Response Time (ms)', 'Packet Loss'])\n",
    "\n",
    "    for site in sites:\n",
    "        data=ping(site, count=5)\n",
    "        writer.writerow([site, data.rtt_avg_ms, data.packet_loss])"
   ]
  }
 ],
 "metadata": {
  "kernelspec": {
   "display_name": "Python 3.10.11 64-bit (microsoft store)",
   "language": "python",
   "name": "python3"
  },
  "language_info": {
   "codemirror_mode": {
    "name": "ipython",
    "version": 3
   },
   "file_extension": ".py",
   "mimetype": "text/x-python",
   "name": "python",
   "nbconvert_exporter": "python",
   "pygments_lexer": "ipython3",
   "version": "3.10.11"
  },
  "orig_nbformat": 4,
  "vscode": {
   "interpreter": {
    "hash": "3b7e9cb8e453d6cda0fe8c8dd13f891a1f09162f0e7c66ffeae7751a7aecf00d"
   }
  }
 },
 "nbformat": 4,
 "nbformat_minor": 2
}
